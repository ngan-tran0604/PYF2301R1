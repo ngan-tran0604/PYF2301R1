{
 "cells": [
  {
   "cell_type": "markdown",
   "id": "7ac14915",
   "metadata": {},
   "source": [
    "# Nhập xuất dữ liệu và String\n",
    "## Cách nhập xuất dữ liệu"
   ]
  },
  {
   "cell_type": "markdown",
   "id": "0f202ae8",
   "metadata": {},
   "source": [
    "### Xuất dữ liệu ra màn hình\n",
    "Để in các nội dung mà chúng ta mong muốn ra màn hình, ta sử dụng lệnh print()"
   ]
  },
  {
   "cell_type": "code",
   "execution_count": null,
   "id": "a6d3f260",
   "metadata": {},
   "outputs": [],
   "source": [
    "# Ví dụ: In ra nội dung \"python is very easy\"\n"
   ]
  },
  {
   "cell_type": "markdown",
   "id": "7733925a",
   "metadata": {},
   "source": [
    "### Các cách custom với lệnh print"
   ]
  },
  {
   "cell_type": "markdown",
   "id": "292ab570",
   "metadata": {},
   "source": [
    "Để in một nội dung kèm theo giá trị của biến, ta có các cách sau:"
   ]
  },
  {
   "cell_type": "code",
   "execution_count": 1,
   "id": "20ff912c",
   "metadata": {},
   "outputs": [],
   "source": [
    "food_1 = \"chocolate\"\n",
    "food_2 = \"sandwich\""
   ]
  },
  {
   "cell_type": "code",
   "execution_count": null,
   "id": "6407a448",
   "metadata": {},
   "outputs": [],
   "source": [
    "# In trực tiếp"
   ]
  },
  {
   "cell_type": "code",
   "execution_count": 6,
   "id": "27d098b8",
   "metadata": {},
   "outputs": [
    {
     "name": "stdout",
     "output_type": "stream",
     "text": [
      "I love-chocolate-and I hate-sandwich\n",
      "I love chocolate and I hate sandwich\n"
     ]
    }
   ],
   "source": [
    "# In bằng cách ghép các nội dung với nhau\n",
    "print(\"I love\", food_1, \"and I hate\", food_2, sep=\"-\")\n",
    "# sep = separate~ngăn cách, có thể thay bằng dấu cách hoặc ký hiệu +-...\n",
    "print(\"I love \" + food_1 + \" and I hate \" + food_2)"
   ]
  },
  {
   "cell_type": "code",
   "execution_count": null,
   "id": "717666f2",
   "metadata": {},
   "outputs": [],
   "source": [
    "# Sử dụng String Format"
   ]
  },
  {
   "cell_type": "code",
   "execution_count": 8,
   "id": "2646045b",
   "metadata": {},
   "outputs": [
    {
     "name": "stdout",
     "output_type": "stream",
     "text": [
      "I love chocolate and I hate sandwich\n"
     ]
    }
   ],
   "source": [
    "print(f\"I love {food_1} and I hate {food_2}\")"
   ]
  },
  {
   "cell_type": "code",
   "execution_count": null,
   "id": "c7276e05",
   "metadata": {},
   "outputs": [],
   "source": [
    "# Sử dụng nhiều lệnh print"
   ]
  },
  {
   "cell_type": "code",
   "execution_count": 9,
   "id": "4739b797",
   "metadata": {},
   "outputs": [
    {
     "name": "stdout",
     "output_type": "stream",
     "text": [
      "I love chocolate and I hate sandwich\n"
     ]
    }
   ],
   "source": [
    "print(\"I love \", end=\"\")\n",
    "print(food_1, end=\"\")\n",
    "print(\" and I hate \", end=\"\")\n",
    "print(food_2)\n",
    "#để custom lệnh Print, ngoài sep để ngăn cách, còn có end để in cùng hàng, và /n để cách thêm dòng"
   ]
  },
  {
   "cell_type": "markdown",
   "id": "e10788fb",
   "metadata": {},
   "source": [
    "### Nhập dữ liệu\n",
    "Để nhập dữ liệu vào chương trình python, chúng ta sử dụng hàm input()"
   ]
  },
  {
   "cell_type": "code",
   "execution_count": 12,
   "id": "b8b8afd3",
   "metadata": {},
   "outputs": [
    {
     "name": "stdout",
     "output_type": "stream",
     "text": [
      "Please enter your name: Ngan\n",
      "Ngan\n",
      "<class 'str'>\n"
     ]
    }
   ],
   "source": [
    "name = input(\"Please enter your name: \")\n",
    "print(name)\n",
    "print(type(name))"
   ]
  },
  {
   "cell_type": "code",
   "execution_count": 16,
   "id": "3c5fd4ed",
   "metadata": {},
   "outputs": [
    {
     "name": "stdout",
     "output_type": "stream",
     "text": [
      "Please enter your name: 123\n",
      "123\n",
      "<class 'int'>\n"
     ]
    }
   ],
   "source": [
    "number = int(input(\"Please enter your name: \"))   #type casting: phương pháp ép kiểu int, float hoặc bool \n",
    "print(number)\n",
    "print(type(number))"
   ]
  },
  {
   "cell_type": "markdown",
   "id": "337f9c15",
   "metadata": {},
   "source": [
    "#### Thực hành: Viết chương trình nhập vào chiều dài và chiều rộng của hình chữ nhật, sau đó in ra chu vi và diện tích của hình chữ nhật đó"
   ]
  },
  {
   "cell_type": "code",
   "execution_count": 23,
   "id": "add68103",
   "metadata": {},
   "outputs": [
    {
     "name": "stdout",
     "output_type": "stream",
     "text": [
      "Nhap chieu dai: 5\n",
      "Nhap chieu rong: 2\n"
     ]
    }
   ],
   "source": [
    "# Nhập các kích thước của hình chữ nhật\n",
    "chieu_dai = int(input(\"Nhap chieu dai: \"))\n",
    "chieu_rong = int(input(\"Nhap chieu rong: \"))\n"
   ]
  },
  {
   "cell_type": "code",
   "execution_count": 24,
   "id": "7a1cd73e",
   "metadata": {},
   "outputs": [],
   "source": [
    "# Tính toán chu vi, diện tích\n",
    "chu_vi = (chieu_dai + chieu_rong)*2\n",
    "dien_tich = chieu_dai*chieu_rong"
   ]
  },
  {
   "cell_type": "code",
   "execution_count": 32,
   "id": "d0adf735",
   "metadata": {},
   "outputs": [
    {
     "name": "stdout",
     "output_type": "stream",
     "text": [
      "Chu vi là 14 và diện tích là  10\n",
      "Chu vi là 14 và diện tích là 10\n",
      "Chu vi là 14 và diện tích là 10\n"
     ]
    }
   ],
   "source": [
    "# In kết quả ra màn hình bằng 3 cách\n",
    "print(\"Chu vi là\", chu_vi, \"và diện tích là \", dien_tich)\n",
    "print(f\"Chu vi là {chu_vi} và diện tích là {dien_tich}\")  #cách này print tự mặc định các thành phần là string\n",
    "print(\"Chu vi là\", chu_vi, end=\"\")\n",
    "print(\" và diện tích là\", dien_tich)"
   ]
  },
  {
   "cell_type": "markdown",
   "id": "fb54cb77",
   "metadata": {},
   "source": [
    "#### Thực hành: Viết chương trình nhập vào số đo cạnh và mã màu của tam giác đều, sau đó sử dụng turtle để vẽ ra hình tam giác có số đo và màu tương ứng"
   ]
  },
  {
   "cell_type": "code",
   "execution_count": 39,
   "id": "7583b308",
   "metadata": {},
   "outputs": [
    {
     "name": "stdout",
     "output_type": "stream",
     "text": [
      "Nhập số đo cạnh tam giác đều: 100\n",
      "Nhập mã màu của tam giác đều: red\n"
     ]
    }
   ],
   "source": [
    "import turtle\n",
    "canh = int(input(\"Nhập số đo cạnh tam giác đều: \"))\n",
    "ma_mau = input(\"Nhập mã màu của tam giác đều: \")"
   ]
  },
  {
   "cell_type": "code",
   "execution_count": 41,
   "id": "c23c7e26",
   "metadata": {},
   "outputs": [],
   "source": [
    "pen = turtle.Turtle()\n",
    "pen.fillcolor(ma_mau)\n",
    "\n",
    "pen.begin_fill()    #pen bắt đầu tô màu\n",
    "pen.circle(canh, steps=3)\n",
    "pen.end_fill()\n",
    "           \n",
    "turtle.done()"
   ]
  },
  {
   "cell_type": "code",
   "execution_count": null,
   "id": "dc786544",
   "metadata": {},
   "outputs": [],
   "source": []
  },
  {
   "cell_type": "code",
   "execution_count": null,
   "id": "28c35df2",
   "metadata": {},
   "outputs": [],
   "source": []
  },
  {
   "cell_type": "markdown",
   "id": "fa7cb208",
   "metadata": {},
   "source": [
    "## Cú pháp import"
   ]
  },
  {
   "cell_type": "markdown",
   "id": "ab2a2ea5",
   "metadata": {},
   "source": [
    "Để sử dụng một module từ bên ngoài, chúng ta sẽ sử dụng từ khóa import. Sau đây là ví dụ về một số cách import phổ biến."
   ]
  },
  {
   "cell_type": "markdown",
   "id": "bd6de377",
   "metadata": {},
   "source": [
    "### Random một giá trị ngẫu nhiên"
   ]
  },
  {
   "cell_type": "code",
   "execution_count": null,
   "id": "ce5547f5",
   "metadata": {},
   "outputs": [],
   "source": []
  },
  {
   "cell_type": "markdown",
   "id": "dfa93dc0",
   "metadata": {},
   "source": [
    "### Thực hiện các phép toán số học"
   ]
  },
  {
   "cell_type": "code",
   "execution_count": 8,
   "id": "4f06f722",
   "metadata": {},
   "outputs": [],
   "source": [
    "# import toàn bộ module"
   ]
  },
  {
   "cell_type": "code",
   "execution_count": null,
   "id": "6b9e471b",
   "metadata": {},
   "outputs": [],
   "source": [
    "# import một phần trong module"
   ]
  },
  {
   "cell_type": "markdown",
   "id": "391969e7",
   "metadata": {},
   "source": [
    "## Xử lý String trong python"
   ]
  },
  {
   "cell_type": "markdown",
   "id": "ab461669",
   "metadata": {},
   "source": [
    "### String là gì?\n",
    "String là một chuỗi gồm các ký tự Unicode"
   ]
  },
  {
   "cell_type": "markdown",
   "id": "94a27b90",
   "metadata": {},
   "source": [
    "### Khởi tạo một string"
   ]
  },
  {
   "cell_type": "code",
   "execution_count": null,
   "id": "b14f4fcc",
   "metadata": {},
   "outputs": [],
   "source": [
    "# one-line string"
   ]
  },
  {
   "cell_type": "code",
   "execution_count": null,
   "id": "9cc506a7",
   "metadata": {},
   "outputs": [],
   "source": [
    "# multi-line string bằng cách tạo 1 cặp 3 dấu nháy trước và sau '''"
   ]
  },
  {
   "cell_type": "markdown",
   "id": "8f4270fd",
   "metadata": {},
   "source": [
    "### Các thao tác phổ biến với string"
   ]
  },
  {
   "cell_type": "code",
   "execution_count": 42,
   "id": "c825f890",
   "metadata": {},
   "outputs": [
    {
     "name": "stdout",
     "output_type": "stream",
     "text": [
      "18\n"
     ]
    }
   ],
   "source": [
    "# Kiểm tra độ dài string\n",
    "course_name = \"python fundamental\"\n",
    "print(len(course_name))"
   ]
  },
  {
   "cell_type": "code",
   "execution_count": 44,
   "id": "6de96621",
   "metadata": {},
   "outputs": [
    {
     "name": "stdout",
     "output_type": "stream",
     "text": [
      "o\n",
      "o\n"
     ]
    }
   ],
   "source": [
    "# Truy xuất ký tự bằng cơ chế indexing và reverse indexing\n",
    "content = \"hello\"\n",
    "\n",
    "#indexing bắt đầu đếm từ trái sang phải từ 0,1,2,3...\n",
    "print(content[4])\n",
    "#reverse indexing đếm ngược từ phải sang trái, bắt đầu từ -1,-2,-3...\n",
    "print(content[-1])"
   ]
  },
  {
   "cell_type": "markdown",
   "id": "a4f949d9",
   "metadata": {},
   "source": [
    "#### Thực hành: Viết chương trình nhập vào một chuỗi bất kỳ, sau đó in ra ký tự đầu tiên và ký tự cuối cùng của chuỗi đó."
   ]
  },
  {
   "cell_type": "code",
   "execution_count": 46,
   "id": "14833f18",
   "metadata": {},
   "outputs": [
    {
     "name": "stdout",
     "output_type": "stream",
     "text": [
      "Nhập một chuỗi bất kỳ: valentine\n",
      "v\n",
      "e\n"
     ]
    }
   ],
   "source": [
    "enter_text = input(\"Nhập một chuỗi bất kỳ: \")\n",
    "print(enter_text[0])\n",
    "print(enter_text[-1])"
   ]
  },
  {
   "cell_type": "code",
   "execution_count": 55,
   "id": "9aad2f16",
   "metadata": {},
   "outputs": [
    {
     "name": "stdout",
     "output_type": "stream",
     "text": [
      "Long\n",
      "Ln\n",
      "Long\n",
      "String2\n",
      "Ln,yh\n",
      "Lgyo3-Si2\n",
      "2gnirtS,7-5-3,nohtyP,gnoL\n"
     ]
    }
   ],
   "source": [
    "# Cắt string theo index\n",
    "#Cú pháp: <tên biến>[start:end:step]  \n",
    "# Default value: start=0, end=len(biến), step=1\n",
    "#Chú ý: end sau khi đếm sẽ + 1,vì nó sẽ lấy chữ đứng trước, step mặc định là 1,nếu muốn lấy cách chữ thì mới ghi thêm\n",
    "content = \"Long,Python,3-5-7,String2\"\n",
    "print(content[0:4])\n",
    "print(content[0:4:2])\n",
    "print(content[:4])  #có thể bỏ start và nó tự mặc định từ 0 trở đi\n",
    "print(content[18:]) #có thể bỏ end và nó tự mặc định là lấy đến cuối cùng\n",
    "print(content[:9:2])\n",
    "print(content[::3]) #có thể bỏ start,end, ghi step\n",
    "print(content[::-1]) #đảo ngược chuỗi, có thể thay cho vòng lặp"
   ]
  },
  {
   "cell_type": "code",
   "execution_count": 58,
   "id": "6ec63f90",
   "metadata": {},
   "outputs": [
    {
     "name": "stdout",
     "output_type": "stream",
     "text": [
      "HelloWorld\n",
      "HelloHelloHello\n"
     ]
    }
   ],
   "source": [
    "# Ghép chuỗi và lặp chuỗi\n",
    "a = \"Hello\"\n",
    "b = \"World\"\n",
    "print(a+b)   #Ghép chuỗi\n",
    "c = a * 3    #Lặp chuỗi\n",
    "print(c)     "
   ]
  },
  {
   "cell_type": "markdown",
   "id": "84c2dcb9",
   "metadata": {},
   "source": [
    "#### Thực hành: Xử lý và in ra các thông tin tương ứng trong chuỗi"
   ]
  },
  {
   "cell_type": "code",
   "execution_count": 62,
   "id": "cd71f135",
   "metadata": {},
   "outputs": [
    {
     "name": "stdout",
     "output_type": "stream",
     "text": [
      "Long\n",
      "Python\n",
      "3-5-7\n",
      "String2\n"
     ]
    }
   ],
   "source": [
    "content = \"Long,Python,3-5-7,String2\"\n",
    "print(content[:4])\n",
    "print(content[5:11])\n",
    "print(content[12:17])\n",
    "print(content[18:])"
   ]
  },
  {
   "cell_type": "markdown",
   "id": "7cbd965f",
   "metadata": {},
   "source": [
    "### Các hàm thông dụng khi xử lý string"
   ]
  },
  {
   "cell_type": "code",
   "execution_count": 65,
   "id": "eb5932a1",
   "metadata": {},
   "outputs": [
    {
     "name": "stdout",
     "output_type": "stream",
     "text": [
      "18\n"
     ]
    }
   ],
   "source": [
    "# len -> trả về độ dài/tổng số ký tự của str\n",
    "content = \"python fundamental\"\n",
    "print(len(content))"
   ]
  },
  {
   "cell_type": "code",
   "execution_count": 69,
   "id": "6bef6d33",
   "metadata": {},
   "outputs": [
    {
     "name": "stdout",
     "output_type": "stream",
     "text": [
      "3\n",
      "1\n"
     ]
    }
   ],
   "source": [
    "# count\n",
    "content = \"Long,Python,3-5-7,String2\"\n",
    "print(content.count('n'))\n",
    "print(content.count('Python'))"
   ]
  },
  {
   "cell_type": "code",
   "execution_count": 75,
   "id": "1582bbd8",
   "metadata": {},
   "outputs": [
    {
     "name": "stdout",
     "output_type": "stream",
     "text": [
      "PYTHON FUNDAMENTAL\n",
      "python fundamental\n",
      "Python fundamental\n"
     ]
    }
   ],
   "source": [
    "# upper, lower\n",
    "content = \"PyThOn funDamEntAl\"\n",
    "print(content.upper())\n",
    "print(content.lower())\n",
    "print(content.capitalize())  #viết hoa chữ cái đầu"
   ]
  },
  {
   "cell_type": "code",
   "execution_count": 78,
   "id": "0d08f708",
   "metadata": {},
   "outputs": [
    {
     "name": "stdout",
     "output_type": "stream",
     "text": [
      "python fundamental        \n",
      "        python fundamental\n",
      "python fundamental\n"
     ]
    }
   ],
   "source": [
    "# lstrip, rstrip, strip dùng cắt bỏ khoảng cách dư thừa ở 2 bên, python ko cắt khoảng cách chính giữa\n",
    "content = \"        python fundamental        \"  #gọi là string with trailing white spaces\n",
    "print(content.lstrip())    #cắt bỏ bên left -trái\n",
    "print(content.rstrip())    #cắt bỏ bên right-phải\n",
    "print(content.strip())     #cắt bỏ cả 2 bên"
   ]
  },
  {
   "cell_type": "code",
   "execution_count": 80,
   "id": "62180d52",
   "metadata": {},
   "outputs": [
    {
     "name": "stdout",
     "output_type": "stream",
     "text": [
      "['Long', 'Python', '3-5-7', 'String2']\n"
     ]
    }
   ],
   "source": [
    "# split trả lại 1 danh sách được cắt riêng biệt, sẽ học kỹ ở phần bài sau\n",
    "content = \"Long,Python,3-5-7,String2\"\n",
    "print(content.split(','))"
   ]
  },
  {
   "cell_type": "markdown",
   "id": "032ba1fc",
   "metadata": {},
   "source": []
  }
 ],
 "metadata": {
  "kernelspec": {
   "display_name": "Python 3 (ipykernel)",
   "language": "python",
   "name": "python3"
  },
  "language_info": {
   "codemirror_mode": {
    "name": "ipython",
    "version": 3
   },
   "file_extension": ".py",
   "mimetype": "text/x-python",
   "name": "python",
   "nbconvert_exporter": "python",
   "pygments_lexer": "ipython3",
   "version": "3.9.13"
  }
 },
 "nbformat": 4,
 "nbformat_minor": 5
}
