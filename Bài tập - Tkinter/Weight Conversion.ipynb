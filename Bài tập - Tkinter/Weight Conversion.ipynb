{
 "cells": [
  {
   "cell_type": "code",
   "execution_count": null,
   "id": "4d860e1b",
   "metadata": {},
   "outputs": [],
   "source": [
    "import tkinter as tk\n",
    "\n",
    "class WeightConverter:\n",
    "    def __init__(self, master):\n",
    "        self.master = master\n",
    "        master.title(\"Weight Converter\")\n",
    "\n",
    "        # Create labels\n",
    "        self.label_kg = tk.Label(master, text=\"Kg:\")\n",
    "        self.label_kg.grid(row=0, column=0)\n",
    "\n",
    "        self.label_lbs = tk.Label(master, text=\"Lbs:\")\n",
    "        self.label_lbs.grid(row=1, column=0)\n",
    "\n",
    "        # Create entry fields\n",
    "        self.entry_kg = tk.Entry(master)\n",
    "        self.entry_kg.grid(row=0, column=1)\n",
    "\n",
    "        self.entry_lbs = tk.Entry(master)\n",
    "        self.entry_lbs.grid(row=1, column=1)\n",
    "\n",
    "        # Create conversion button\n",
    "        self.button_convert = tk.Button(master, text=\"Convert\", command=self.convert)\n",
    "        self.button_convert.grid(row=2, column=0, columnspan=2)\n",
    "\n",
    "    def convert(self):\n",
    "        # Convert kg to lbs\n",
    "        kg = float(self.entry_kg.get())\n",
    "        lbs = kg * 2.20462\n",
    "        self.entry_lbs.delete(0, tk.END)\n",
    "        self.entry_lbs.insert(0, round(lbs, 2))\n",
    "\n",
    "root = tk.Tk()\n",
    "my_gui = WeightConverter(root)\n",
    "root.mainloop()"
   ]
  },
  {
   "cell_type": "code",
   "execution_count": null,
   "id": "2f81726e",
   "metadata": {},
   "outputs": [],
   "source": []
  }
 ],
 "metadata": {
  "kernelspec": {
   "display_name": "Python 3 (ipykernel)",
   "language": "python",
   "name": "python3"
  },
  "language_info": {
   "codemirror_mode": {
    "name": "ipython",
    "version": 3
   },
   "file_extension": ".py",
   "mimetype": "text/x-python",
   "name": "python",
   "nbconvert_exporter": "python",
   "pygments_lexer": "ipython3",
   "version": "3.9.13"
  }
 },
 "nbformat": 4,
 "nbformat_minor": 5
}
