{
 "cells": [
  {
   "cell_type": "code",
   "execution_count": 1,
   "id": "10ea20dd",
   "metadata": {},
   "outputs": [
    {
     "name": "stdout",
     "output_type": "stream",
     "text": [
      "Nhập giá trị khoảng cách ban đầu: 2\n"
     ]
    }
   ],
   "source": [
    "import turtle\n",
    "\n",
    "# Khởi tạo màn hình Turtle\n",
    "screen = turtle.Screen()\n",
    "\n",
    "# Khởi tạo con rùa Turtle\n",
    "t = turtle.Turtle()\n",
    "\n",
    "# Khởi tạo giá trị ban đầu của khoảng cách\n",
    "initial_distance = int(input(\"Nhập giá trị khoảng cách ban đầu: \"))\n",
    "\n",
    "# Vẽ đường xoắn ốc\n",
    "d = 1\n",
    "while True:\n",
    "    t.forward(d)\n",
    "    t.left(10)\n",
    "    d += 0.1\n",
    "    if t.distance(0, 0) > initial_distance:\n",
    "        break"
   ]
  },
  {
   "cell_type": "code",
   "execution_count": null,
   "id": "12cb1ae9",
   "metadata": {},
   "outputs": [],
   "source": []
  }
 ],
 "metadata": {
  "kernelspec": {
   "display_name": "Python 3 (ipykernel)",
   "language": "python",
   "name": "python3"
  },
  "language_info": {
   "codemirror_mode": {
    "name": "ipython",
    "version": 3
   },
   "file_extension": ".py",
   "mimetype": "text/x-python",
   "name": "python",
   "nbconvert_exporter": "python",
   "pygments_lexer": "ipython3",
   "version": "3.9.13"
  }
 },
 "nbformat": 4,
 "nbformat_minor": 5
}
