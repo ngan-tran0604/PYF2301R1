{
 "cells": [
  {
   "cell_type": "code",
   "execution_count": 1,
   "id": "88113c7a",
   "metadata": {},
   "outputs": [
    {
     "name": "stdout",
     "output_type": "stream",
     "text": [
      "Nhập số nguyên: 4\n",
      "4 là Số chẵn\n"
     ]
    }
   ],
   "source": [
    "# Sử dụng toán tử điều kiện ba ngôi để kiểm tra số chẵn hay lẻ\n",
    "num = int(input(\"Nhập số nguyên: \"))\n",
    "result = \"Số chẵn\" if num % 2 == 0 else \"Số lẻ\"\n",
    "print(f\"{num} là {result}\")"
   ]
  },
  {
   "cell_type": "code",
   "execution_count": null,
   "id": "658f3626",
   "metadata": {},
   "outputs": [],
   "source": []
  }
 ],
 "metadata": {
  "kernelspec": {
   "display_name": "Python 3 (ipykernel)",
   "language": "python",
   "name": "python3"
  },
  "language_info": {
   "codemirror_mode": {
    "name": "ipython",
    "version": 3
   },
   "file_extension": ".py",
   "mimetype": "text/x-python",
   "name": "python",
   "nbconvert_exporter": "python",
   "pygments_lexer": "ipython3",
   "version": "3.9.13"
  }
 },
 "nbformat": 4,
 "nbformat_minor": 5
}
