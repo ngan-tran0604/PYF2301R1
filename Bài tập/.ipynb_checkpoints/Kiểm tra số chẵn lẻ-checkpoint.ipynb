{
 "cells": [
  {
   "cell_type": "code",
   "execution_count": 2,
   "id": "10fb7905",
   "metadata": {},
   "outputs": [
    {
     "name": "stdout",
     "output_type": "stream",
     "text": [
      "Nhập vào 1 số bất kỳ:2\n",
      "số chẵn\n"
     ]
    }
   ],
   "source": [
    "a = input(\"Nhập vào 1 số bất kỳ:\")\n",
    "a = float(a)\n",
    "if a % 2 == 0:\n",
    "    print('số chẵn')\n",
    "elif a % 2 == 1:\n",
    "    print('số lẻ')\n",
    "else:\n",
    "    print('không phải số tự nhiên')"
   ]
  },
  {
   "cell_type": "code",
   "execution_count": null,
   "id": "729add74",
   "metadata": {},
   "outputs": [],
   "source": []
  }
 ],
 "metadata": {
  "kernelspec": {
   "display_name": "Python 3 (ipykernel)",
   "language": "python",
   "name": "python3"
  },
  "language_info": {
   "codemirror_mode": {
    "name": "ipython",
    "version": 3
   },
   "file_extension": ".py",
   "mimetype": "text/x-python",
   "name": "python",
   "nbconvert_exporter": "python",
   "pygments_lexer": "ipython3",
   "version": "3.9.13"
  }
 },
 "nbformat": 4,
 "nbformat_minor": 5
}
