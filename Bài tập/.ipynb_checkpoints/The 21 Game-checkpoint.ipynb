{
 "cells": [
  {
   "cell_type": "code",
   "execution_count": 11,
   "id": "49d02a1a",
   "metadata": {},
   "outputs": [
    {
     "ename": "KeyboardInterrupt",
     "evalue": "",
     "output_type": "error",
     "traceback": [
      "\u001b[0;31m---------------------------------------------------------------------------\u001b[0m",
      "\u001b[0;31mKeyboardInterrupt\u001b[0m                         Traceback (most recent call last)",
      "\u001b[0;32m/var/folders/yg/m44fz9xs1ts1k73skv7j000r0000gn/T/ipykernel_49714/2585973200.py\u001b[0m in \u001b[0;36m<module>\u001b[0;34m\u001b[0m\n\u001b[1;32m      2\u001b[0m \u001b[0;34m\u001b[0m\u001b[0m\n\u001b[1;32m      3\u001b[0m \u001b[0;32mwhile\u001b[0m \u001b[0;32mTrue\u001b[0m\u001b[0;34m:\u001b[0m\u001b[0;34m\u001b[0m\u001b[0;34m\u001b[0m\u001b[0m\n\u001b[0;32m----> 4\u001b[0;31m     \u001b[0mcurrent_number\u001b[0m \u001b[0;34m=\u001b[0m \u001b[0;36m0\u001b[0m\u001b[0;34m\u001b[0m\u001b[0;34m\u001b[0m\u001b[0m\n\u001b[0m\u001b[1;32m      5\u001b[0m \u001b[0mcurrent_player\u001b[0m \u001b[0;34m=\u001b[0m \u001b[0mrandom\u001b[0m\u001b[0;34m.\u001b[0m\u001b[0mrandint\u001b[0m\u001b[0;34m(\u001b[0m\u001b[0;36m0\u001b[0m\u001b[0;34m,\u001b[0m \u001b[0;36m1\u001b[0m\u001b[0;34m)\u001b[0m\u001b[0;34m\u001b[0m\u001b[0;34m\u001b[0m\u001b[0m\n\u001b[1;32m      6\u001b[0m \u001b[0;32mif\u001b[0m \u001b[0mcurrent_player\u001b[0m \u001b[0;34m==\u001b[0m \u001b[0;36m0\u001b[0m\u001b[0;34m:\u001b[0m\u001b[0;34m\u001b[0m\u001b[0;34m\u001b[0m\u001b[0m\n",
      "\u001b[0;31mKeyboardInterrupt\u001b[0m: "
     ]
    }
   ],
   "source": [
    "import random\n",
    "\n",
    "while True:\n",
    "    current_number = 0\n",
    "current_player = random.randint(0, 1)\n",
    "if current_player == 0:\n",
    "    current_player = \"human\"\n",
    "else:\n",
    "    current_player = \"computer\"\n",
    "while current_number <= 21:\n",
    "    print(\"Current number: \", current_number)\n",
    "    \n",
    "    if current_player == \"human\":\n",
    "        player_choice = \"\"\n",
    "        while player_choice not in ['1', '2', '3']:\n",
    "            player_choice = input(\"Enter 1, 2, or 3: \")\n",
    "        player_choice = int(player_choice)\n",
    "        current_number += player_choice\n",
    "        \n",
    "        if current_number >= 21:\n",
    "            print(\"Current number: \", current_number)\n",
    "            print(\"Sorry, you lost!\")\n",
    "            break\n",
    "        \n",
    "        current_player = \"computer\"\n",
    "        \n",
    "    else:\n",
    "        computer_choice = random.randint(1, 3)\n",
    "        print(\"Computer chooses: \", computer_choice)\n",
    "        current_number += computer_choice\n",
    "        \n",
    "        if current_number >= 21:\n",
    "            print(\"Current number: \", current_number)\n",
    "            print(\"Congratulations, you win!\")\n",
    "            break\n",
    "        \n",
    "        current_player = \"human\"\n",
    "        \n",
    "play_again = input(\"Do you want to play again? (y/n): \")\n",
    "\n",
    "if play_again.lower().startswith('y'):\n",
    "    continue\n",
    "else:\n",
    "    break\n"
   ]
  },
  {
   "cell_type": "code",
   "execution_count": null,
   "id": "93df62e2",
   "metadata": {},
   "outputs": [],
   "source": []
  }
 ],
 "metadata": {
  "kernelspec": {
   "display_name": "Python 3 (ipykernel)",
   "language": "python",
   "name": "python3"
  },
  "language_info": {
   "codemirror_mode": {
    "name": "ipython",
    "version": 3
   },
   "file_extension": ".py",
   "mimetype": "text/x-python",
   "name": "python",
   "nbconvert_exporter": "python",
   "pygments_lexer": "ipython3",
   "version": "3.9.13"
  }
 },
 "nbformat": 4,
 "nbformat_minor": 5
}
