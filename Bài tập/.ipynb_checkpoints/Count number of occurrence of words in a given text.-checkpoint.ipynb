{
 "cells": [
  {
   "cell_type": "code",
   "execution_count": 1,
   "id": "2dd62b69",
   "metadata": {},
   "outputs": [
    {
     "name": "stdout",
     "output_type": "stream",
     "text": [
      "{'this': 1, 'is': 1, 'a': 1, 'sample': 2, 'text': 2, 'for': 1, 'testing': 1, 'count': 1, 'function': 1}\n"
     ]
    }
   ],
   "source": [
    "def count_words(text):\n",
    "    num_words = {}\n",
    "    text_list = text.split()\n",
    "    for word in text_list:\n",
    "        word = word.lower().strip()\n",
    "        num_words[word] = num_words.get(word, 0) + 1\n",
    "    return num_words\n",
    "\n",
    "message = \"This is a sample text for testing sample text count function\"\n",
    "result = count_words(message)\n",
    "print(result)\n"
   ]
  },
  {
   "cell_type": "code",
   "execution_count": null,
   "id": "6aa3305d",
   "metadata": {},
   "outputs": [],
   "source": []
  }
 ],
 "metadata": {
  "kernelspec": {
   "display_name": "Python 3 (ipykernel)",
   "language": "python",
   "name": "python3"
  },
  "language_info": {
   "codemirror_mode": {
    "name": "ipython",
    "version": 3
   },
   "file_extension": ".py",
   "mimetype": "text/x-python",
   "name": "python",
   "nbconvert_exporter": "python",
   "pygments_lexer": "ipython3",
   "version": "3.9.13"
  }
 },
 "nbformat": 4,
 "nbformat_minor": 5
}
