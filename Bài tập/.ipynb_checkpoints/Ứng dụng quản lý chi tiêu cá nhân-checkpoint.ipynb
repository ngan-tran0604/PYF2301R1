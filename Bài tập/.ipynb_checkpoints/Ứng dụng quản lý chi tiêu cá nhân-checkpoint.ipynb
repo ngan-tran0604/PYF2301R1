{
 "cells": [
  {
   "cell_type": "code",
   "execution_count": 12,
   "id": "211c3dce",
   "metadata": {},
   "outputs": [
    {
     "name": "stdout",
     "output_type": "stream",
     "text": [
      "What do you want to do? -\n",
      "1. Add\n",
      "2. Remove\n",
      "Select option 1 or 2: 1\n",
      "Item name: tomato\n",
      "Item cost: 20000\n",
      "Date: 02032023\n"
     ]
    },
    {
     "ename": "NameError",
     "evalue": "name 'expenses' is not defined",
     "output_type": "error",
     "traceback": [
      "\u001b[0;31m---------------------------------------------------------------------------\u001b[0m",
      "\u001b[0;31mNameError\u001b[0m                                 Traceback (most recent call last)",
      "\u001b[0;32m/var/folders/yg/m44fz9xs1ts1k73skv7j000r0000gn/T/ipykernel_50483/3672303959.py\u001b[0m in \u001b[0;36m<module>\u001b[0;34m\u001b[0m\n\u001b[1;32m     25\u001b[0m     \u001b[0mdate_input\u001b[0m \u001b[0;34m=\u001b[0m \u001b[0minput\u001b[0m\u001b[0;34m(\u001b[0m\u001b[0;34m\"Date: \"\u001b[0m\u001b[0;34m)\u001b[0m\u001b[0;34m\u001b[0m\u001b[0;34m\u001b[0m\u001b[0m\n\u001b[1;32m     26\u001b[0m     \u001b[0mitem\u001b[0m \u001b[0;34m=\u001b[0m \u001b[0;34m{\u001b[0m\u001b[0;34m'name'\u001b[0m\u001b[0;34m:\u001b[0m \u001b[0mname_input\u001b[0m\u001b[0;34m,\u001b[0m \u001b[0;34m'cost'\u001b[0m\u001b[0;34m:\u001b[0m\u001b[0mcost_input\u001b[0m\u001b[0;34m,\u001b[0m \u001b[0;34m'date'\u001b[0m\u001b[0;34m:\u001b[0m\u001b[0mdate_input\u001b[0m\u001b[0;34m}\u001b[0m\u001b[0;34m\u001b[0m\u001b[0;34m\u001b[0m\u001b[0m\n\u001b[0;32m---> 27\u001b[0;31m     \u001b[0madd_item\u001b[0m\u001b[0;34m(\u001b[0m\u001b[0mexpenses\u001b[0m\u001b[0;34m,\u001b[0m \u001b[0mitem\u001b[0m\u001b[0;34m)\u001b[0m\u001b[0;34m\u001b[0m\u001b[0;34m\u001b[0m\u001b[0m\n\u001b[0m\u001b[1;32m     28\u001b[0m     \u001b[0mprint\u001b[0m\u001b[0;34m(\u001b[0m\u001b[0;34m\"Your expenses: \"\u001b[0m\u001b[0;34m,\u001b[0m \u001b[0mexpenses\u001b[0m\u001b[0;34m)\u001b[0m\u001b[0;34m\u001b[0m\u001b[0;34m\u001b[0m\u001b[0m\n\u001b[1;32m     29\u001b[0m \u001b[0;32melif\u001b[0m \u001b[0moption\u001b[0m \u001b[0;34m==\u001b[0m \u001b[0;36m2\u001b[0m\u001b[0;34m:\u001b[0m\u001b[0;34m\u001b[0m\u001b[0;34m\u001b[0m\u001b[0m\n",
      "\u001b[0;31mNameError\u001b[0m: name 'expenses' is not defined"
     ]
    }
   ],
   "source": [
    "def add_item(myTempList, item):    \n",
    "    myTempList.append(item)\n",
    "def find_index_item(myTempList, item_name):\n",
    "    result = -1\n",
    "    length = len(myTempList)\n",
    "    for i in range(length):\n",
    "        if myTempList[i]['name'] == item_name:\n",
    "            result = i\n",
    "    return result\n",
    "def remove_item(myTempList, item_name):\n",
    "    if find_index_item(myTempList, item_name) > -1:\n",
    "        del myTempList[find_index_item(myTempList, item_name)]\n",
    "    else:\n",
    "        print(item_name + \" not in list\")\n",
    "        \n",
    "    print(\"Your expenses:\", expenses)\n",
    "\n",
    "print(\"What do you want to do? -\\n\"\\\n",
    "        \"1. Add\\n\" \\\n",
    "        \"2. Remove\")\n",
    "option = int(input(\"Select option 1 or 2: \"))\n",
    "name_input = input(\"Item name: \")\n",
    "if option == 1:\n",
    "    cost_input = int(input(\"Item cost: \"))\n",
    "    date_input = input(\"Date: \")\n",
    "    item = {'name': name_input, 'cost':cost_input, 'date':date_input}\n",
    "    add_item(expenses, item)\n",
    "    print(\"Your expenses: \", expenses)\n",
    "elif option == 2:\n",
    "    remove_item(expenses, name_input)\n",
    "    print(\"Your expenses: \", expenses)\n",
    "else:\n",
    "    print(\"Invalid input\")\n"
   ]
  },
  {
   "cell_type": "code",
   "execution_count": null,
   "id": "c9d62707",
   "metadata": {},
   "outputs": [],
   "source": []
  }
 ],
 "metadata": {
  "kernelspec": {
   "display_name": "Python 3 (ipykernel)",
   "language": "python",
   "name": "python3"
  },
  "language_info": {
   "codemirror_mode": {
    "name": "ipython",
    "version": 3
   },
   "file_extension": ".py",
   "mimetype": "text/x-python",
   "name": "python",
   "nbconvert_exporter": "python",
   "pygments_lexer": "ipython3",
   "version": "3.9.13"
  }
 },
 "nbformat": 4,
 "nbformat_minor": 5
}
