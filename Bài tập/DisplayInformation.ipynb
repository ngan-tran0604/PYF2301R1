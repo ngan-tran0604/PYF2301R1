{
 "cells": [
  {
   "cell_type": "code",
   "execution_count": 2,
   "id": "f770a66c",
   "metadata": {},
   "outputs": [
    {
     "name": "stdout",
     "output_type": "stream",
     "text": [
      "Nguyễn Văn A 01011994 Hồ Chí Minh Học Phân tích dữ liệu\n"
     ]
    }
   ],
   "source": [
    "#in thông tin cá nhân của người học gồm: Họ và tên, ngày sinh, địa chỉ, mục đích đến với khoá học Python\n",
    "\n",
    "a = \"Nguyễn Văn A\"\n",
    "b = \"01011994\"\n",
    "c = \"Hồ Chí Minh\"\n",
    "d = \"Học Phân tích dữ liệu\"\n",
    "print(a, b, c, d)"
   ]
  },
  {
   "cell_type": "code",
   "execution_count": null,
   "id": "a19b8343",
   "metadata": {},
   "outputs": [],
   "source": []
  }
 ],
 "metadata": {
  "kernelspec": {
   "display_name": "Python 3 (ipykernel)",
   "language": "python",
   "name": "python3"
  },
  "language_info": {
   "codemirror_mode": {
    "name": "ipython",
    "version": 3
   },
   "file_extension": ".py",
   "mimetype": "text/x-python",
   "name": "python",
   "nbconvert_exporter": "python",
   "pygments_lexer": "ipython3",
   "version": "3.9.13"
  }
 },
 "nbformat": 4,
 "nbformat_minor": 5
}
