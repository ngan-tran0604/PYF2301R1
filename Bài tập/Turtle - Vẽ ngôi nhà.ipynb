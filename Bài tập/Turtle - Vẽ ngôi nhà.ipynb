{
 "cells": [
  {
   "cell_type": "code",
   "execution_count": 1,
   "id": "72310b67",
   "metadata": {},
   "outputs": [],
   "source": [
    "import turtle\n",
    "\n",
    "# Vẽ mặt trời\n",
    "sun = turtle.Turtle()\n",
    "sun.penup()\n",
    "sun.goto(-200, 200)\n",
    "sun.pendown()\n",
    "sun.begin_fill()\n",
    "sun.color(\"yellow\")\n",
    "for i in range(36):\n",
    "    sun.forward(100)\n",
    "    sun.right(170)\n",
    "sun.end_fill()\n",
    "\n",
    "# Vẽ ngôi nhà\n",
    "house = turtle.Turtle()\n",
    "house.penup()\n",
    "house.goto(-50, -50)\n",
    "house.pendown()\n",
    "house.begin_fill()\n",
    "house.color(\"red\")\n",
    "for i in range(4):\n",
    "    house.forward(100)\n",
    "    house.left(90)\n",
    "house.end_fill()\n",
    "house.penup()\n",
    "house.goto(0, 0)\n",
    "house.pendown()\n",
    "house.begin_fill()\n",
    "house.color(\"green\")\n",
    "for i in range(3):\n",
    "    house.forward(50)\n",
    "    house.left(120)\n",
    "house.end_fill()\n",
    "\n",
    "turtle.done()\n"
   ]
  },
  {
   "cell_type": "code",
   "execution_count": null,
   "id": "09318155",
   "metadata": {},
   "outputs": [],
   "source": []
  }
 ],
 "metadata": {
  "kernelspec": {
   "display_name": "Python 3 (ipykernel)",
   "language": "python",
   "name": "python3"
  },
  "language_info": {
   "codemirror_mode": {
    "name": "ipython",
    "version": 3
   },
   "file_extension": ".py",
   "mimetype": "text/x-python",
   "name": "python",
   "nbconvert_exporter": "python",
   "pygments_lexer": "ipython3",
   "version": "3.9.13"
  }
 },
 "nbformat": 4,
 "nbformat_minor": 5
}
