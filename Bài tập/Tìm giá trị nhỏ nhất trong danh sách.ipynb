{
 "cells": [
  {
   "cell_type": "code",
   "execution_count": 21,
   "id": "f7550f93",
   "metadata": {},
   "outputs": [],
   "source": [
    "def get_min_number(numbers):\n",
    "    result = numbers[0]\n",
    "    for num in numbers:\n",
    "        if result > num:\n",
    "            result = num\n",
    "        return result\n",
    "\n",
    "    min_number = get_min_number(numbers)\n",
    "    print(\"Min number:\", min_number)"
   ]
  },
  {
   "cell_type": "code",
   "execution_count": null,
   "id": "c236fb63",
   "metadata": {},
   "outputs": [],
   "source": []
  }
 ],
 "metadata": {
  "kernelspec": {
   "display_name": "Python 3 (ipykernel)",
   "language": "python",
   "name": "python3"
  },
  "language_info": {
   "codemirror_mode": {
    "name": "ipython",
    "version": 3
   },
   "file_extension": ".py",
   "mimetype": "text/x-python",
   "name": "python",
   "nbconvert_exporter": "python",
   "pygments_lexer": "ipython3",
   "version": "3.9.13"
  }
 },
 "nbformat": 4,
 "nbformat_minor": 5
}
