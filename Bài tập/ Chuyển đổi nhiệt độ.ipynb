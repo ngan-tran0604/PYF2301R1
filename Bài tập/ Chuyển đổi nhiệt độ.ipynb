{
 "cells": [
  {
   "cell_type": "code",
   "execution_count": 3,
   "id": "18578186",
   "metadata": {},
   "outputs": [
    {
     "name": "stdout",
     "output_type": "stream",
     "text": [
      "Nhập độ 0C:32\n",
      "Quy đổi ra độ 0F là: 89.6\n"
     ]
    }
   ],
   "source": [
    "#Viết chương trình nhập một giá trị là độ 0C (Celsius) và chuyển nó sang độ 0F (Fahrenheit).\n",
    "a = float(input(\"Nhập độ 0C:\"))\n",
    "b = (a * 1.8 ) +  32\n",
    "print(f\"Quy đổi ra độ 0F là: {b}\")"
   ]
  },
  {
   "cell_type": "code",
   "execution_count": null,
   "id": "8d87bd94",
   "metadata": {},
   "outputs": [],
   "source": []
  }
 ],
 "metadata": {
  "kernelspec": {
   "display_name": "Python 3 (ipykernel)",
   "language": "python",
   "name": "python3"
  },
  "language_info": {
   "codemirror_mode": {
    "name": "ipython",
    "version": 3
   },
   "file_extension": ".py",
   "mimetype": "text/x-python",
   "name": "python",
   "nbconvert_exporter": "python",
   "pygments_lexer": "ipython3",
   "version": "3.9.13"
  }
 },
 "nbformat": 4,
 "nbformat_minor": 5
}
