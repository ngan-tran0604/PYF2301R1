{
 "cells": [
  {
   "cell_type": "code",
   "execution_count": 1,
   "id": "454a2660",
   "metadata": {},
   "outputs": [
    {
     "name": "stdout",
     "output_type": "stream",
     "text": [
      "Nhập số tiền USD cần đổi: 23000\n",
      "Nhập tỉ giá USD/VND: 11000\n",
      "23000.0 USD tương đương với 253000000.0 VND\n"
     ]
    }
   ],
   "source": [
    "#Ứng dụng chuyển đổi tiền tệ cho phép tính giá trị tiền tệ giữa các đồng tiền khác nhau dựa vào một tỉ giá cho trước.\n",
    "usd = float(input(\"Nhập số tiền USD cần đổi: \"))\n",
    "\n",
    "# Nhập tỉ giá USD/VND\n",
    "exchange_rate = float(input(\"Nhập tỉ giá USD/VND: \"))\n",
    "\n",
    "# Tính số tiền VND theo tỉ giá và số tiền USD nhập vào\n",
    "vnd = usd * exchange_rate\n",
    "\n",
    "# In ra kết quả\n",
    "print(f\"{usd} USD tương đương với {vnd} VND\")"
   ]
  },
  {
   "cell_type": "code",
   "execution_count": null,
   "id": "07721125",
   "metadata": {},
   "outputs": [],
   "source": []
  }
 ],
 "metadata": {
  "kernelspec": {
   "display_name": "Python 3 (ipykernel)",
   "language": "python",
   "name": "python3"
  },
  "language_info": {
   "codemirror_mode": {
    "name": "ipython",
    "version": 3
   },
   "file_extension": ".py",
   "mimetype": "text/x-python",
   "name": "python",
   "nbconvert_exporter": "python",
   "pygments_lexer": "ipython3",
   "version": "3.9.13"
  }
 },
 "nbformat": 4,
 "nbformat_minor": 5
}
