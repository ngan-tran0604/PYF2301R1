{
 "cells": [
  {
   "cell_type": "code",
   "execution_count": 1,
   "id": "eccb609e",
   "metadata": {},
   "outputs": [
    {
     "name": "stdout",
     "output_type": "stream",
     "text": [
      "Nhập từ cần tra cứu: xin chào\n",
      "Không tìm thấy từ xin chào trong từ điển.\n"
     ]
    }
   ],
   "source": [
    "dictionary = {\n",
    "    \"hello\": \"xin chào\",\n",
    "    \"world\": \"thế giới\",\n",
    "    \"computer\": \"máy tính\",\n",
    "    \"programming\": \"lập trình\",\n",
    "    \"language\": \"ngôn ngữ\"\n",
    "}\n",
    "\n",
    "word = input(\"Nhập từ cần tra cứu: \")\n",
    "\n",
    "if word in dictionary:\n",
    "    print(f\"{word} có nghĩa là {dictionary[word]}\")\n",
    "else:\n",
    "    print(f\"Không tìm thấy từ {word} trong từ điển.\")\n"
   ]
  },
  {
   "cell_type": "code",
   "execution_count": null,
   "id": "ead99780",
   "metadata": {},
   "outputs": [],
   "source": []
  }
 ],
 "metadata": {
  "kernelspec": {
   "display_name": "Python 3 (ipykernel)",
   "language": "python",
   "name": "python3"
  },
  "language_info": {
   "codemirror_mode": {
    "name": "ipython",
    "version": 3
   },
   "file_extension": ".py",
   "mimetype": "text/x-python",
   "name": "python",
   "nbconvert_exporter": "python",
   "pygments_lexer": "ipython3",
   "version": "3.9.13"
  }
 },
 "nbformat": 4,
 "nbformat_minor": 5
}
