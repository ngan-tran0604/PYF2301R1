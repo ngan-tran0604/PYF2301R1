{
 "cells": [
  {
   "cell_type": "code",
   "execution_count": 1,
   "id": "e54cc631",
   "metadata": {},
   "outputs": [
    {
     "name": "stdout",
     "output_type": "stream",
     "text": [
      "Input heigh: 150\n",
      "Input weigh: 50\n",
      "BMI is 22.22222222222222\n",
      "Bình thường\n"
     ]
    }
   ],
   "source": [
    "heigh = int(input(\"Input heigh: \"))\n",
    "weigh = int(input(\"Input weigh: \"))\n",
    "bmi = weigh / (heigh/100) **2\n",
    "print(f\"BMI is {bmi}\")\n",
    "\n",
    "if bmi < 16:\n",
    "    print(\"Gầy cấp độ III\")\n",
    "elif bmi < 17: \n",
    "    print(\"Gầy cấp độ II\")\n",
    "elif bmi < 18.5: \n",
    "    print(\"Gầy cấp độ I\")\n",
    "elif bmi < 25: \n",
    "    print(\"Bình thường\")\n",
    "elif bmi < 30: \n",
    "    print(\"Thừa cân\")\n",
    "elif bmi < 35: \n",
    "    print(\"Béo phì cấp độ I\")\n",
    "elif bmi < 40: \n",
    "    print(\"Béo phì cấp độ II\")\n",
    "else: \n",
    "    print(\"Béo phì cấp độ III\")"
   ]
  },
  {
   "cell_type": "code",
   "execution_count": null,
   "id": "379353be",
   "metadata": {},
   "outputs": [],
   "source": []
  }
 ],
 "metadata": {
  "kernelspec": {
   "display_name": "Python 3 (ipykernel)",
   "language": "python",
   "name": "python3"
  },
  "language_info": {
   "codemirror_mode": {
    "name": "ipython",
    "version": 3
   },
   "file_extension": ".py",
   "mimetype": "text/x-python",
   "name": "python",
   "nbconvert_exporter": "python",
   "pygments_lexer": "ipython3",
   "version": "3.9.13"
  }
 },
 "nbformat": 4,
 "nbformat_minor": 5
}
