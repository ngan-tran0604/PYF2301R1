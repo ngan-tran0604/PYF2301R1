{
 "cells": [
  {
   "cell_type": "code",
   "execution_count": 4,
   "id": "637cee7c",
   "metadata": {},
   "outputs": [
    {
     "ename": "SyntaxError",
     "evalue": "invalid syntax (3783792741.py, line 12)",
     "output_type": "error",
     "traceback": [
      "\u001b[0;36m  File \u001b[0;32m\"/var/folders/yg/m44fz9xs1ts1k73skv7j000r0000gn/T/ipykernel_48196/3783792741.py\"\u001b[0;36m, line \u001b[0;32m12\u001b[0m\n\u001b[0;31m    elif i % 3 == 0:\u001b[0m\n\u001b[0m    ^\u001b[0m\n\u001b[0;31mSyntaxError\u001b[0m\u001b[0;31m:\u001b[0m invalid syntax\n"
     ]
    }
   ],
   "source": [
    "start, end = input(\"Nhập vào 2 số nguyên cách nhau bởi dấu cách: \").split()\n",
    "\n",
    "start = int(start)\n",
    "end = int(end)\n",
    "\n",
    "if end < start:\n",
    "    print(\"Số kết thúc cần lớn hơn số bắt đầu\")\n",
    "else:\n",
    "    for i in range(start, end+1):\n",
    "        if i % 3 == 0 and i % 5 == 0:\n",
    "            print(\"FizzBuzz\")\n",
    "elif i % 3 == 0:\n",
    "    print(\"Fizz\")\n",
    "elif i % 5 == 0:\n",
    "    print(\"Buzz\")\n",
    "else:\n",
    "    print(i)"
   ]
  },
  {
   "cell_type": "code",
   "execution_count": null,
   "id": "06f36628",
   "metadata": {},
   "outputs": [],
   "source": []
  }
 ],
 "metadata": {
  "kernelspec": {
   "display_name": "Python 3 (ipykernel)",
   "language": "python",
   "name": "python3"
  },
  "language_info": {
   "codemirror_mode": {
    "name": "ipython",
    "version": 3
   },
   "file_extension": ".py",
   "mimetype": "text/x-python",
   "name": "python",
   "nbconvert_exporter": "python",
   "pygments_lexer": "ipython3",
   "version": "3.9.13"
  }
 },
 "nbformat": 4,
 "nbformat_minor": 5
}
