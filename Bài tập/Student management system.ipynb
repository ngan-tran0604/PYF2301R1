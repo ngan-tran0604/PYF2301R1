{
 "cells": [
  {
   "cell_type": "code",
   "execution_count": 2,
   "id": "8dd6a75f",
   "metadata": {},
   "outputs": [],
   "source": [
    "class Student:\n",
    "    def __init__(self, student_id, name, dob, hometown, major, class_name):\n",
    "        self.student_id = student_id\n",
    "        self.name = name\n",
    "        self.dob = dob\n",
    "        self.hometown = hometown\n",
    "        self.major = major\n",
    "        self.class_name = class_name\n",
    "\n",
    "class Student_List:\n",
    "    def __init__(self):\n",
    "        self.student_list = []\n",
    "\n",
    "    def show_all_students(self):\n",
    "        for student in self.student_list:\n",
    "            print(f\"ID: {student.student_id}, Name: {student.name}, DOB: {student.dob}, Hometown: {student.hometown}, Major: {student.major}, Class: {student.class_name}\")\n",
    "\n",
    "    def add_student(self, student):\n",
    "        self.student_list.append(student)\n",
    "        print(\"Student added successfully!\")\n",
    "\n",
    "    def update_student(self, student_id, new_student_info):\n",
    "        for student in self.student_list:\n",
    "            if student.student_id == student_id:\n",
    "                student.name = new_student_info.get('name', student.name)\n",
    "                student.dob = new_student_info.get('dob', student.dob)\n",
    "                student.hometown = new_student_info.get('hometown', student.hometown)\n",
    "                student.major = new_student_info.get('major', student.major)\n",
    "                student.class_name = new_student_info.get('class_name', student.class_name)\n",
    "                print(\"Student updated successfully!\")\n",
    "                return\n",
    "        print(\"Student not found!\")\n",
    "\n",
    "    def delete_student(self, student_id):\n",
    "        for student in self.student_list:\n",
    "            if student.student_id == student_id:\n",
    "                self.student_list.remove(student)\n",
    "                print(\"Student deleted successfully!\")\n",
    "                return\n",
    "        print(\"Student not found!\")\n",
    "\n",
    "    def search_student(self, keyword):\n",
    "        results = []\n",
    "        for student in self.student_list:\n",
    "            if keyword in student.name or keyword in student.hometown or keyword in student.major or keyword in student.class_name:\n",
    "                results.append(student)\n",
    "        if len(results) == 0:\n",
    "            print(\"No student found!\")\n",
    "        else:\n",
    "            for student in results:\n",
    "                print(f\"ID: {student.student_id}, Name: {student.name}, DOB: {student.dob}, Hometown: {student.hometown}, Major: {student.major}, Class: {student.class_name}\")\n",
    "\n",
    "    def sort_student(self, attribute):\n",
    "        self.student_list.sort(key=lambda student: getattr(student, attribute))\n",
    "        print(\"Student list sorted successfully!\")\n"
   ]
  },
  {
   "cell_type": "code",
   "execution_count": null,
   "id": "0c7987e2",
   "metadata": {},
   "outputs": [],
   "source": []
  }
 ],
 "metadata": {
  "kernelspec": {
   "display_name": "Python 3 (ipykernel)",
   "language": "python",
   "name": "python3"
  },
  "language_info": {
   "codemirror_mode": {
    "name": "ipython",
    "version": 3
   },
   "file_extension": ".py",
   "mimetype": "text/x-python",
   "name": "python",
   "nbconvert_exporter": "python",
   "pygments_lexer": "ipython3",
   "version": "3.9.13"
  }
 },
 "nbformat": 4,
 "nbformat_minor": 5
}
