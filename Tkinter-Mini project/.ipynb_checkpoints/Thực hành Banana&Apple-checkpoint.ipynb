{
 "cells": [
  {
   "cell_type": "code",
   "execution_count": 1,
   "id": "c10f42cc",
   "metadata": {},
   "outputs": [
    {
     "name": "stdout",
     "output_type": "stream",
     "text": [
      "It is an apple\n",
      "It is an banana\n",
      "It is an banana\n",
      "It is an apple\n"
     ]
    }
   ],
   "source": [
    "from tkinter import *\n",
    "  \n",
    "app = Tk()\n",
    "\n",
    "def apple_button_click():\n",
    "   print(\"It is an apple\")\n",
    "\n",
    "def banana_button_click():\n",
    "   print(\"It is an banana\")\n",
    "\n",
    "b1 = Button(app, text=\"Apple\", command=apple_button_click)\n",
    "b1.grid(padx=10, pady=10)  \n",
    "\n",
    "b2 = Button(app, text=\"Banana\", command=banana_button_click)\n",
    "b2.grid(padx=10, pady=10)\n",
    "\n",
    "app.mainloop()"
   ]
  },
  {
   "cell_type": "code",
   "execution_count": null,
   "id": "de180191",
   "metadata": {},
   "outputs": [],
   "source": []
  }
 ],
 "metadata": {
  "kernelspec": {
   "display_name": "Python 3 (ipykernel)",
   "language": "python",
   "name": "python3"
  },
  "language_info": {
   "codemirror_mode": {
    "name": "ipython",
    "version": 3
   },
   "file_extension": ".py",
   "mimetype": "text/x-python",
   "name": "python",
   "nbconvert_exporter": "python",
   "pygments_lexer": "ipython3",
   "version": "3.9.13"
  }
 },
 "nbformat": 4,
 "nbformat_minor": 5
}
